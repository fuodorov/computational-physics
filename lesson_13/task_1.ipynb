{
 "cells": [
  {
   "cell_type": "code",
   "execution_count": 25,
   "id": "f220744c-70af-4b9c-96d2-eca55d471008",
   "metadata": {},
   "outputs": [
    {
     "data": {
      "application/vnd.jupyter.widget-view+json": {
       "model_id": "40ed16a5c37b41fa85ec214e3e429fe5",
       "version_major": 2,
       "version_minor": 0
      },
      "text/plain": [
       "interactive(children=(FloatSlider(value=0.5, description='Число Куранта', max=1.1, min=0.1, step=0.05), IntSli…"
      ]
     },
     "metadata": {},
     "output_type": "display_data"
    }
   ],
   "source": [
    "import numpy as np\n",
    "import matplotlib.pyplot as plt\n",
    "from ipywidgets import interact, IntSlider, FloatSlider, Dropdown\n",
    "\n",
    "c = 1.0\n",
    "L = 2.0\n",
    "J = 100\n",
    "N = 100\n",
    "h = L / J\n",
    "x = np.linspace(0, L, J+1)\n",
    "\n",
    "def initial_condition_function(x, cond_type):\n",
    "    if cond_type == \"Разрывная функция\":\n",
    "        u0 = np.where((x >= 0.4) & (x <= 0.6), 1.0, 0.0)\n",
    "    elif cond_type == \"Гауссова функция\":\n",
    "        u0 = np.exp(-((x - 0.5) ** 2) / (2 * 0.05**2))\n",
    "    elif cond_type == \"Обрезанный косинус\":\n",
    "        u0 = np.zeros_like(x)\n",
    "        mask = (x >= 0.3) & (x <= 0.7)\n",
    "        center = 0.5  \n",
    "        half_width = 0.2  \n",
    "        u0[mask] = np.cos((np.pi/2) * (x[mask] - center) / half_width)\n",
    "        u0 = np.abs(u0)\n",
    "    else:\n",
    "        u0 = np.zeros_like(x)\n",
    "    return u0\n",
    "\n",
    "def solve_and_plot(sigma, time_index, ic_type):\n",
    "    tau = sigma * h / c  \n",
    "    T_effective = N * tau  \n",
    "    u = np.zeros((N+1, J+1))\n",
    "    u[0, :] = initial_condition_function(x, ic_type)\n",
    "    \n",
    "    for n in range(N):\n",
    "        for j in range(1, J+1):\n",
    "            u[n+1, j] = u[n, j] - sigma * (u[n, j] - u[n, j-1])\n",
    "            \n",
    "    t = time_index * tau\n",
    "    x_shifted = (x - c * t) % L\n",
    "    u_exact = initial_condition_function(x_shifted, ic_type)\n",
    "    \n",
    "    plt.figure(figsize=(8, 5))\n",
    "    plt.plot(x, u[time_index, :], 'b-o', label=f'Численное, t = {t:.3f}')\n",
    "    plt.plot(x, u_exact, 'r--', label='Теоретическое')\n",
    "    plt.xlabel('x')\n",
    "    plt.ylabel('u(x,t)')\n",
    "    plt.title(f'σ = {sigma:.2f}, T = {T_effective:.3f}')\n",
    "    plt.legend()\n",
    "    plt.grid(True)\n",
    "    plt.ylim(min(u[time_index, :].min(), u_exact.min()) - 0.1, max(u[time_index, :].max(), u_exact.max()) + 0.1)\n",
    "    plt.show()\n",
    "\n",
    "interact(solve_and_plot,\n",
    "         sigma=FloatSlider(min=0.1, max=1.1, step=0.05, value=0.5, description=\"Число Куранта\"),\n",
    "         time_index=IntSlider(min=0, max=N, step=1, value=0, description=\"Временной слой\"),\n",
    "         ic_type=Dropdown(options=[\"Разрывная функция\", \"Гауссова функция\", \"Обрезанный косинус\"],\n",
    "                          value=\"Разрывная функция\",\n",
    "                          description=\"Начальное условие\"));"
   ]
  },
  {
   "cell_type": "code",
   "execution_count": null,
   "id": "1c2a0c89-8eec-4ae3-b526-a9278c2f7f01",
   "metadata": {},
   "outputs": [],
   "source": []
  }
 ],
 "metadata": {
  "kernelspec": {
   "display_name": "Python 3 (ipykernel)",
   "language": "python",
   "name": "python3"
  },
  "language_info": {
   "codemirror_mode": {
    "name": "ipython",
    "version": 3
   },
   "file_extension": ".py",
   "mimetype": "text/x-python",
   "name": "python",
   "nbconvert_exporter": "python",
   "pygments_lexer": "ipython3",
   "version": "3.12.2"
  }
 },
 "nbformat": 4,
 "nbformat_minor": 5
}
